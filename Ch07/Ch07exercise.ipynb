{
 "cells": [
  {
   "cell_type": "markdown",
   "metadata": {},
   "source": [
    "Set Up:"
   ]
  },
  {
   "cell_type": "code",
   "execution_count": 1,
   "metadata": {},
   "outputs": [
    {
     "ename": "ModuleNotFoundError",
     "evalue": "No module named 'stock_analysis'",
     "output_type": "error",
     "traceback": [
      "\u001b[1;31m---------------------------------------------------------------------------\u001b[0m",
      "\u001b[1;31mModuleNotFoundError\u001b[0m                       Traceback (most recent call last)",
      "\u001b[1;32m<ipython-input-1-8771b20884db>\u001b[0m in \u001b[0;36m<module>\u001b[1;34m\u001b[0m\n\u001b[0;32m      1\u001b[0m \u001b[0mget_ipython\u001b[0m\u001b[1;33m(\u001b[0m\u001b[1;33m)\u001b[0m\u001b[1;33m.\u001b[0m\u001b[0mrun_line_magic\u001b[0m\u001b[1;33m(\u001b[0m\u001b[1;34m'matplotlib'\u001b[0m\u001b[1;33m,\u001b[0m \u001b[1;34m'inline'\u001b[0m\u001b[1;33m)\u001b[0m\u001b[1;33m\u001b[0m\u001b[1;33m\u001b[0m\u001b[0m\n\u001b[1;32m----> 2\u001b[1;33m \u001b[1;32mimport\u001b[0m \u001b[0mstock_analysis\u001b[0m\u001b[1;33m\u001b[0m\u001b[1;33m\u001b[0m\u001b[0m\n\u001b[0m\u001b[0;32m      3\u001b[0m \u001b[1;32mfrom\u001b[0m \u001b[0mstock_analysis\u001b[0m\u001b[1;33m.\u001b[0m\u001b[0mutils\u001b[0m \u001b[1;32mimport\u001b[0m \u001b[0mgroup_stocks\u001b[0m\u001b[1;33m\u001b[0m\u001b[1;33m\u001b[0m\u001b[0m\n\u001b[0;32m      4\u001b[0m \u001b[1;33m\u001b[0m\u001b[0m\n\u001b[0;32m      5\u001b[0m \u001b[0mstart\u001b[0m\u001b[1;33m,\u001b[0m \u001b[0mend\u001b[0m \u001b[1;33m=\u001b[0m \u001b[1;34m'2019-01-01'\u001b[0m\u001b[1;33m,\u001b[0m \u001b[1;34m'2020-12-31'\u001b[0m\u001b[1;33m\u001b[0m\u001b[1;33m\u001b[0m\u001b[0m\n",
      "\u001b[1;31mModuleNotFoundError\u001b[0m: No module named 'stock_analysis'"
     ]
    }
   ],
   "source": [
    "%matplotlib inline\r\n",
    "import stock_analysis\r\n",
    "from stock_analysis.utils import group_stocks\r\n",
    "\r\n",
    "start, end = '2019-01-01', '2020-12-31'\r\n",
    "reader = stock_analysis.StockReader(start, end)\r\n",
    "\r\n",
    "bitcoin = reader.get_bitcoin_data('USD')\r\n",
    "\r\n",
    "fb, aapl, amzn, nflx, goog = (\r\n",
    "    reader.get_ticker_data(ticker)\r\n",
    "    for ticker in ['FB', 'AAPL', 'AMZN', 'NFLX', 'GOOG']\r\n",
    ")\r\n",
    "\r\n",
    "sp = reader.get_index_data('S&P 500')\r\n",
    "\r\n",
    "faang = group_stocks(\r\n",
    "    {\r\n",
    "        'Facebook': fb, \r\n",
    "        'Apple': aapl, \r\n",
    "        'Amazon': amzn, \r\n",
    "        'Netflix': nflx, \r\n",
    "        'Google': goog\r\n",
    "    }\r\n",
    ")"
   ]
  },
  {
   "cell_type": "markdown",
   "metadata": {},
   "source": [
    "1:"
   ]
  },
  {
   "cell_type": "code",
   "execution_count": null,
   "metadata": {},
   "outputs": [],
   "source": [
    "import itertools\r\n",
    "\r\n",
    "def levels(analyzer, method):\r\n",
    "    return [getattr(analyzer, method)(i) for i in range(1, 4)]\r\n",
    "\r\n",
    "# calculate support/resistance levels\r\n",
    "nflx_analyzer = stock_analysis.StockAnalyzer(nflx)\r\n",
    "support_levels, resistance_levels = (\r\n",
    "    levels(nflx_analyzer, metric) for metric in ['support', 'resistance']\r\n",
    ")\r\n",
    "\r\n",
    "nflx_viz = stock_analysis.StockVisualizer(nflx)\r\n",
    "ax = nflx_viz.evolution_over_time('close', figsize=(15, 8), title='NFLX Closing Price')\r\n",
    "\r\n",
    "for support, resistance, linestyle, level in zip(\r\n",
    "    support_levels, resistance_levels, \r\n",
    "    [':', '--', '-.'], itertools.count(1)\r\n",
    "):\r\n",
    "    nflx_viz.add_reference_line(\r\n",
    "        ax, \r\n",
    "        y=support, \r\n",
    "        label=f'support level {level}', \r\n",
    "        color='green', \r\n",
    "        linestyle=linestyle\r\n",
    "    )\r\n",
    "    nflx_viz.add_reference_line(\r\n",
    "        ax, \r\n",
    "        y=resistance, \r\n",
    "        label=f'resistance level {level}', \r\n",
    "        color='red', \r\n",
    "        linestyle=linestyle\r\n",
    "    )\r\n",
    "ax.get_legend().remove()\r\n",
    "ax.set_ylabel('price ($)')"
   ]
  },
  {
   "cell_type": "markdown",
   "metadata": {},
   "source": [
    "2:"
   ]
  },
  {
   "cell_type": "code",
   "execution_count": null,
   "metadata": {},
   "outputs": [],
   "source": [
    "stock_analysis.AssetGroupVisualizer(faang).after_hours_trades()\r\n"
   ]
  },
  {
   "cell_type": "markdown",
   "metadata": {},
   "source": [
    "2b:"
   ]
  },
  {
   "cell_type": "code",
   "execution_count": null,
   "metadata": {},
   "outputs": [],
   "source": [
    "\r\n",
    "from stock_analysis.utils import make_portfolio\r\n",
    "\r\n",
    "stock_analysis.StockVisualizer(make_portfolio(faang)).after_hours_trades()"
   ]
  },
  {
   "cell_type": "markdown",
   "metadata": {},
   "source": [
    "3:"
   ]
  },
  {
   "cell_type": "code",
   "execution_count": null,
   "metadata": {},
   "outputs": [],
   "source": [
    "from matplotlib.ticker import StrMethodFormatter\r\n",
    "from stock_analysis.utils import make_portfolio\r\n",
    "\r\n",
    "ax = stock_analysis.StockVisualizer(make_portfolio(faang)).open_to_close()\r\n",
    "ax.yaxis.set_major_formatter(StrMethodFormatter('${x:,.0f}'))"
   ]
  },
  {
   "cell_type": "markdown",
   "metadata": {},
   "source": [
    "4:"
   ]
  },
  {
   "cell_type": "code",
   "execution_count": null,
   "metadata": {},
   "outputs": [],
   "source": [
    "fbalx = reader.get_ticker_data('FBALX')\r\n",
    "msft = reader.get_ticker_data('MSFT')\r\n",
    "mutual_fund = group_stocks({\r\n",
    "    '0 - FBALX': fbalx,\r\n",
    "    '1 - Microsoft': msft,\r\n",
    "    '2 - Apple': aapl,\r\n",
    "    '3 - Amazon': amzn\r\n",
    "})\r\n",
    "stock_analysis.AssetGroupAnalyzer(mutual_fund).analyze('annualized_volatility')"
   ]
  },
  {
   "cell_type": "markdown",
   "metadata": {},
   "source": [
    "5:"
   ]
  },
  {
   "cell_type": "code",
   "execution_count": null,
   "metadata": {},
   "outputs": [],
   "source": [
    "import pandas as pd\r\n",
    "\r\n",
    "def metric_table(stock, index, r_f):\r\n",
    "    \"\"\"\r\n",
    "    Make a table of metrics for a stock.\r\n",
    "\r\n",
    "    Parameters:\r\n",
    "        - stock: The stock's dataframe.\r\n",
    "        - index: The dataframe for the index.\r\n",
    "        - r_f: Risk-free rate of return\r\n",
    "     \r\n",
    "    Returns:\r\n",
    "        A `pandas.DataFrame` object with a single row of metrics\r\n",
    "    \"\"\"\r\n",
    "    return pd.DataFrame({\r\n",
    "        metric: getattr(\r\n",
    "            stock_analysis.StockAnalyzer(stock), \r\n",
    "            metric\r\n",
    "        )(**kwargs) \\\r\n",
    "        for metric, kwargs in {\r\n",
    "            'alpha': {'index': index, 'r_f': r_f}, \r\n",
    "            'beta': {'index': index}, \r\n",
    "            'sharpe_ratio': {'r_f': r_f},\r\n",
    "            'annualized_volatility': {},\r\n",
    "            'is_bear_market': {},\r\n",
    "            'is_bull_market': {}\r\n",
    "        }.items()\r\n",
    "    }, index=range(1))\r\n",
    "\r\n",
    "# test out the function\r\n",
    "metric_table(fbalx, sp, r_f=reader.get_risk_free_rate_of_return())"
   ]
  },
  {
   "cell_type": "markdown",
   "metadata": {},
   "source": [
    "6:"
   ]
  },
  {
   "cell_type": "code",
   "execution_count": null,
   "metadata": {},
   "outputs": [],
   "source": [
    "train, test = sp['2019':'2020-11'], sp.loc['2020-12']"
   ]
  },
  {
   "cell_type": "markdown",
   "metadata": {},
   "source": [
    "7:"
   ]
  },
  {
   "cell_type": "code",
   "execution_count": null,
   "metadata": {},
   "outputs": [],
   "source": [
    "forex = reader.get_forex_rates('USD', 'JPY', api_key='PASTE_YOUR_API_KEY_HERE')\r\n",
    "stock_analysis.StockVisualizer(forex).candlestick(date_range=slice('2019-02-01', '2020-01-31'), resample='1W')"
   ]
  }
 ],
 "metadata": {
  "interpreter": {
   "hash": "0a45e29234938e31cc6023ca6ec55aecd36d2a88ac8ec07868f70767f004948a"
  },
  "kernelspec": {
   "display_name": "Python 3.9.5 64-bit ('ch03_env': venv)",
   "name": "python3"
  },
  "language_info": {
   "codemirror_mode": {
    "name": "ipython",
    "version": 3
   },
   "file_extension": ".py",
   "mimetype": "text/x-python",
   "name": "python",
   "nbconvert_exporter": "python",
   "pygments_lexer": "ipython3",
   "version": "3.9.5"
  },
  "orig_nbformat": 4
 },
 "nbformat": 4,
 "nbformat_minor": 2
}