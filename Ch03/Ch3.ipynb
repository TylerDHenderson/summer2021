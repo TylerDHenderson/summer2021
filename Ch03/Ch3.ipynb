{
 "cells": [
  {
   "cell_type": "markdown",
   "id": "beaa5164-17ab-4a15-9789-fd437633df30",
   "metadata": {},
   "source": [
    "# This is my Chapter 03 Notebook"
   ]
  },
  {
   "cell_type": "code",
   "execution_count": 1,
   "id": "f89df7a4-2167-4a83-8153-2554c7b61b64",
   "metadata": {},
   "outputs": [
    {
     "name": "stdout",
     "output_type": "stream",
     "text": [
      "Hello World!\n"
     ]
    }
   ],
   "source": [
    "import os\n",
    "print(\"Hello World!\")"
   ]
  }
 ],
 "metadata": {
  "kernelspec": {
   "display_name": "Python 3",
   "language": "python",
   "name": "python3"
  },
  "language_info": {
   "codemirror_mode": {
    "name": "ipython",
    "version": 3
   },
   "file_extension": ".py",
   "mimetype": "text/x-python",
   "name": "python",
   "nbconvert_exporter": "python",
   "pygments_lexer": "ipython3",
   "version": "3.9.5"
  }
 },
 "nbformat": 4,
 "nbformat_minor": 5
}
